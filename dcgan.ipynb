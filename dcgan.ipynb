{
  "nbformat": 4,
  "nbformat_minor": 0,
  "metadata": {
    "accelerator": "GPU",
    "colab": {
      "name": "dcgan.ipynb",
      "provenance": []
    },
    "kernelspec": {
      "name": "python3",
      "display_name": "Python 3"
    },
    "language_info": {
      "codemirror_mode": {
        "name": "ipython",
        "version": 3
      },
      "file_extension": ".py",
      "mimetype": "text/x-python",
      "name": "python",
      "nbconvert_exporter": "python",
      "pygments_lexer": "ipython3",
      "version": "3.6.5"
    }
  },
  "cells": [
    {
      "cell_type": "markdown",
      "metadata": {
        "colab_type": "text",
        "id": "svr0lCa0jHVy"
      },
      "source": [
        "[![Open In Colab](https://colab.research.google.com/assets/colab-badge.svg)](https://colab.research.google.com/github/Masao-Taketani/gan_practice/blob/master/dcgan.ipynb)\n"
      ]
    },
    {
      "cell_type": "code",
      "metadata": {
        "id": "ziT7dQamumdC",
        "colab_type": "code",
        "colab": {
          "base_uri": "https://localhost:8080/",
          "height": 1000
        },
        "outputId": "dd508588-73f1-4279-baf4-b179e8be6522"
      },
      "source": [
        "!pip install --upgrade tensorflow==2"
      ],
      "execution_count": 1,
      "outputs": [
        {
          "output_type": "stream",
          "text": [
            "Collecting tensorflow==2\n",
            "\u001b[?25l  Downloading https://files.pythonhosted.org/packages/46/0f/7bd55361168bb32796b360ad15a25de6966c9c1beb58a8e30c01c8279862/tensorflow-2.0.0-cp36-cp36m-manylinux2010_x86_64.whl (86.3MB)\n",
            "\u001b[K     |████████████████████████████████| 86.3MB 51kB/s \n",
            "\u001b[?25hRequirement already satisfied, skipping upgrade: absl-py>=0.7.0 in /usr/local/lib/python3.6/dist-packages (from tensorflow==2) (0.9.0)\n",
            "Collecting tensorflow-estimator<2.1.0,>=2.0.0\n",
            "\u001b[?25l  Downloading https://files.pythonhosted.org/packages/fc/08/8b927337b7019c374719145d1dceba21a8bb909b93b1ad6f8fb7d22c1ca1/tensorflow_estimator-2.0.1-py2.py3-none-any.whl (449kB)\n",
            "\u001b[K     |████████████████████████████████| 450kB 50.2MB/s \n",
            "\u001b[?25hRequirement already satisfied, skipping upgrade: opt-einsum>=2.3.2 in /usr/local/lib/python3.6/dist-packages (from tensorflow==2) (3.1.0)\n",
            "Requirement already satisfied, skipping upgrade: protobuf>=3.6.1 in /usr/local/lib/python3.6/dist-packages (from tensorflow==2) (3.10.0)\n",
            "Requirement already satisfied, skipping upgrade: keras-applications>=1.0.8 in /usr/local/lib/python3.6/dist-packages (from tensorflow==2) (1.0.8)\n",
            "Collecting tensorboard<2.1.0,>=2.0.0\n",
            "\u001b[?25l  Downloading https://files.pythonhosted.org/packages/76/54/99b9d5d52d5cb732f099baaaf7740403e83fe6b0cedde940fabd2b13d75a/tensorboard-2.0.2-py3-none-any.whl (3.8MB)\n",
            "\u001b[K     |████████████████████████████████| 3.8MB 59.9MB/s \n",
            "\u001b[?25hRequirement already satisfied, skipping upgrade: grpcio>=1.8.6 in /usr/local/lib/python3.6/dist-packages (from tensorflow==2) (1.15.0)\n",
            "Requirement already satisfied, skipping upgrade: six>=1.10.0 in /usr/local/lib/python3.6/dist-packages (from tensorflow==2) (1.12.0)\n",
            "Requirement already satisfied, skipping upgrade: numpy<2.0,>=1.16.0 in /usr/local/lib/python3.6/dist-packages (from tensorflow==2) (1.17.5)\n",
            "Requirement already satisfied, skipping upgrade: google-pasta>=0.1.6 in /usr/local/lib/python3.6/dist-packages (from tensorflow==2) (0.1.8)\n",
            "Requirement already satisfied, skipping upgrade: wheel>=0.26 in /usr/local/lib/python3.6/dist-packages (from tensorflow==2) (0.34.2)\n",
            "Requirement already satisfied, skipping upgrade: termcolor>=1.1.0 in /usr/local/lib/python3.6/dist-packages (from tensorflow==2) (1.1.0)\n",
            "Requirement already satisfied, skipping upgrade: wrapt>=1.11.1 in /usr/local/lib/python3.6/dist-packages (from tensorflow==2) (1.11.2)\n",
            "Requirement already satisfied, skipping upgrade: keras-preprocessing>=1.0.5 in /usr/local/lib/python3.6/dist-packages (from tensorflow==2) (1.1.0)\n",
            "Requirement already satisfied, skipping upgrade: gast==0.2.2 in /usr/local/lib/python3.6/dist-packages (from tensorflow==2) (0.2.2)\n",
            "Requirement already satisfied, skipping upgrade: astor>=0.6.0 in /usr/local/lib/python3.6/dist-packages (from tensorflow==2) (0.8.1)\n",
            "Requirement already satisfied, skipping upgrade: setuptools in /usr/local/lib/python3.6/dist-packages (from protobuf>=3.6.1->tensorflow==2) (45.1.0)\n",
            "Requirement already satisfied, skipping upgrade: h5py in /usr/local/lib/python3.6/dist-packages (from keras-applications>=1.0.8->tensorflow==2) (2.8.0)\n",
            "Collecting google-auth<2,>=1.6.3\n",
            "\u001b[?25l  Downloading https://files.pythonhosted.org/packages/1c/6d/7aae38a9022f982cf8167775c7fc299f203417b698c27080ce09060bba07/google_auth-1.11.0-py2.py3-none-any.whl (76kB)\n",
            "\u001b[K     |████████████████████████████████| 81kB 13.3MB/s \n",
            "\u001b[?25hRequirement already satisfied, skipping upgrade: werkzeug>=0.11.15 in /usr/local/lib/python3.6/dist-packages (from tensorboard<2.1.0,>=2.0.0->tensorflow==2) (0.16.1)\n",
            "Requirement already satisfied, skipping upgrade: requests<3,>=2.21.0 in /usr/local/lib/python3.6/dist-packages (from tensorboard<2.1.0,>=2.0.0->tensorflow==2) (2.21.0)\n",
            "Requirement already satisfied, skipping upgrade: markdown>=2.6.8 in /usr/local/lib/python3.6/dist-packages (from tensorboard<2.1.0,>=2.0.0->tensorflow==2) (3.1.1)\n",
            "Requirement already satisfied, skipping upgrade: google-auth-oauthlib<0.5,>=0.4.1 in /usr/local/lib/python3.6/dist-packages (from tensorboard<2.1.0,>=2.0.0->tensorflow==2) (0.4.1)\n",
            "Requirement already satisfied, skipping upgrade: cachetools<5.0,>=2.0.0 in /usr/local/lib/python3.6/dist-packages (from google-auth<2,>=1.6.3->tensorboard<2.1.0,>=2.0.0->tensorflow==2) (4.0.0)\n",
            "Requirement already satisfied, skipping upgrade: rsa<4.1,>=3.1.4 in /usr/local/lib/python3.6/dist-packages (from google-auth<2,>=1.6.3->tensorboard<2.1.0,>=2.0.0->tensorflow==2) (4.0)\n",
            "Requirement already satisfied, skipping upgrade: pyasn1-modules>=0.2.1 in /usr/local/lib/python3.6/dist-packages (from google-auth<2,>=1.6.3->tensorboard<2.1.0,>=2.0.0->tensorflow==2) (0.2.8)\n",
            "Requirement already satisfied, skipping upgrade: urllib3<1.25,>=1.21.1 in /usr/local/lib/python3.6/dist-packages (from requests<3,>=2.21.0->tensorboard<2.1.0,>=2.0.0->tensorflow==2) (1.24.3)\n",
            "Requirement already satisfied, skipping upgrade: idna<2.9,>=2.5 in /usr/local/lib/python3.6/dist-packages (from requests<3,>=2.21.0->tensorboard<2.1.0,>=2.0.0->tensorflow==2) (2.8)\n",
            "Requirement already satisfied, skipping upgrade: chardet<3.1.0,>=3.0.2 in /usr/local/lib/python3.6/dist-packages (from requests<3,>=2.21.0->tensorboard<2.1.0,>=2.0.0->tensorflow==2) (3.0.4)\n",
            "Requirement already satisfied, skipping upgrade: certifi>=2017.4.17 in /usr/local/lib/python3.6/dist-packages (from requests<3,>=2.21.0->tensorboard<2.1.0,>=2.0.0->tensorflow==2) (2019.11.28)\n",
            "Requirement already satisfied, skipping upgrade: requests-oauthlib>=0.7.0 in /usr/local/lib/python3.6/dist-packages (from google-auth-oauthlib<0.5,>=0.4.1->tensorboard<2.1.0,>=2.0.0->tensorflow==2) (1.3.0)\n",
            "Requirement already satisfied, skipping upgrade: pyasn1>=0.1.3 in /usr/local/lib/python3.6/dist-packages (from rsa<4.1,>=3.1.4->google-auth<2,>=1.6.3->tensorboard<2.1.0,>=2.0.0->tensorflow==2) (0.4.8)\n",
            "Requirement already satisfied, skipping upgrade: oauthlib>=3.0.0 in /usr/local/lib/python3.6/dist-packages (from requests-oauthlib>=0.7.0->google-auth-oauthlib<0.5,>=0.4.1->tensorboard<2.1.0,>=2.0.0->tensorflow==2) (3.1.0)\n",
            "\u001b[31mERROR: tensorboard 2.0.2 has requirement grpcio>=1.24.3, but you'll have grpcio 1.15.0 which is incompatible.\u001b[0m\n",
            "\u001b[31mERROR: google-colab 1.0.0 has requirement google-auth~=1.4.0, but you'll have google-auth 1.11.0 which is incompatible.\u001b[0m\n",
            "Installing collected packages: tensorflow-estimator, google-auth, tensorboard, tensorflow\n",
            "  Found existing installation: tensorflow-estimator 1.15.1\n",
            "    Uninstalling tensorflow-estimator-1.15.1:\n",
            "      Successfully uninstalled tensorflow-estimator-1.15.1\n",
            "  Found existing installation: google-auth 1.4.2\n",
            "    Uninstalling google-auth-1.4.2:\n",
            "      Successfully uninstalled google-auth-1.4.2\n",
            "  Found existing installation: tensorboard 1.15.0\n",
            "    Uninstalling tensorboard-1.15.0:\n",
            "      Successfully uninstalled tensorboard-1.15.0\n",
            "  Found existing installation: tensorflow 1.15.0\n",
            "    Uninstalling tensorflow-1.15.0:\n",
            "      Successfully uninstalled tensorflow-1.15.0\n",
            "Successfully installed google-auth-1.11.0 tensorboard-2.0.2 tensorflow-2.0.0 tensorflow-estimator-2.0.1\n"
          ],
          "name": "stdout"
        },
        {
          "output_type": "display_data",
          "data": {
            "application/vnd.colab-display-data+json": {
              "pip_warning": {
                "packages": [
                  "google"
                ]
              }
            }
          },
          "metadata": {
            "tags": []
          }
        }
      ]
    },
    {
      "cell_type": "code",
      "metadata": {
        "colab_type": "code",
        "id": "zoJVq7aUjHV2",
        "colab": {}
      },
      "source": [
        "from glob import glob\n",
        "import numpy as np\n",
        "from PIL import Image\n",
        "import matplotlib.pyplot as plt\n",
        "%matplotlib inline\n",
        "\n",
        "from tensorflow.keras.layers import Input, Conv2D, BatchNormalization,\\\n",
        "Activation, Dropout, Flatten, Dense, Reshape, UpSampling2D, LeakyReLU,\\\n",
        "ZeroPadding2D\n",
        "from tensorflow.keras.optimizers import RMSprop, Adam\n",
        "from tensorflow.keras.models import Model\n",
        "from tensorflow.keras.initializers import RandomNormal"
      ],
      "execution_count": 0,
      "outputs": []
    },
    {
      "cell_type": "code",
      "metadata": {
        "id": "_4gpwAcIyRm1",
        "colab_type": "code",
        "colab": {}
      },
      "source": [
        "img_dirs_list = []\n",
        "img_files_path = []\n",
        "\n",
        "dataset_path = \"\"\n",
        "img_dirs_list = glob(dataset_path + \"/*\")\n",
        "for dir_path in img_dirs_path:\n",
        "    imgs_path = glob8(glob + \"/*\")\n",
        "    img_files_path.append(imgs_path)\n",
        "\n",
        "print(\"# of images:\", len(img_files_path))"
      ],
      "execution_count": 0,
      "outputs": []
    },
    {
      "cell_type": "code",
      "metadata": {
        "id": "zd3-m6hGAiIB",
        "colab_type": "code",
        "colab": {}
      },
      "source": [
        "x_train = np.array(img_files_path)"
      ],
      "execution_count": 0,
      "outputs": []
    },
    {
      "cell_type": "code",
      "metadata": {
        "colab_type": "code",
        "id": "JM9nBmZzjHWA",
        "outputId": "4c7062f2-66fc-43e9-faad-70cd97a6164a",
        "colab": {
          "base_uri": "https://localhost:8080/",
          "height": 34
        }
      },
      "source": [
        "x_train = x_train/127.5 - 1.0\n",
        "x_train = np.expand_dims(x_train, -1)\n",
        "x_train.shape"
      ],
      "execution_count": 0,
      "outputs": [
        {
          "output_type": "execute_result",
          "data": {
            "text/plain": [
              "(60000, 28, 28, 1)"
            ]
          },
          "metadata": {
            "tags": []
          },
          "execution_count": 3
        }
      ]
    },
    {
      "cell_type": "code",
      "metadata": {
        "colab_type": "code",
        "id": "i4ZDY3fjjHWD",
        "colab": {}
      },
      "source": [
        "# hyper params\n",
        "input_dims = (128, 128, 3)\n",
        "num_disc_layers = 4\n",
        "disc_conv_fils = [32, 64, 128, 256]\n",
        "disc_conv_kernel_size = [3, 3, 3, 3]\n",
        "disc_conv_strides = [2, 2, 2, 1]\n",
        "disc_batch_norm_momentum = 0.8\n",
        "disc_dropout_rate = 0.25\n",
        "\n",
        "z_dims = 100\n",
        "shape_after_dense = (7, 7, 128)\n",
        "gen_upsamp_layers = [True, True, False]\n",
        "gen_batch_norm_momentum = 0.8\n",
        "gen_dropout_rate = None\n",
        "num_gen_layers = 3\n",
        "gen_conv_fils = [128, 64, 1]\n",
        "gen_conv_kernel_size = [3, 3, 3]"
      ],
      "execution_count": 0,
      "outputs": []
    },
    {
      "cell_type": "markdown",
      "metadata": {
        "colab_type": "text",
        "id": "TtNjH37UjHWG"
      },
      "source": [
        "## Discriminator"
      ]
    },
    {
      "cell_type": "code",
      "metadata": {
        "colab_type": "code",
        "id": "PjVNAOwpjHWH",
        "outputId": "a33f0180-b8b3-41cd-9380-5669b04a44c7",
        "colab": {
          "base_uri": "https://localhost:8080/",
          "height": 88
        }
      },
      "source": [
        "disc_input = Input(shape=input_dims, name=\"disc_input\")\n",
        "x = disc_input\n",
        "\n",
        "for i in range(num_disc_layers):\n",
        "    x = Conv2D(filters=disc_conv_fils[i],\n",
        "              kernel_size=disc_conv_kernel_size[i],\n",
        "              strides=disc_conv_strides[i],\n",
        "              padding=\"same\",\n",
        "              name=\"disc_conv_\" + str(i)\n",
        "              )(x)\n",
        "    \n",
        "    if i == 1:\n",
        "        \"\"\"\n",
        "        Arguments:\n",
        "        padding: Int, or tuple of 2 ints, or tuple of 2 tuples of 2 ints.\n",
        "        If int: the same symmetric padding is applied to height and width.\n",
        "        If tuple of 2 ints: interpreted as two different symmetric padding values for height and width: (symmetric_height_pad, symmetric_width_pad).\n",
        "        If tuple of 2 tuples of 2 ints: interpreted as ((top_pad, bottom_pad), (left_pad, right_pad))\n",
        "        \"\"\"\n",
        "        x = ZeroPadding2D(padding=((0, 1), (0, 1)))(x)\n",
        "        \n",
        "    if disc_batch_norm_momentum and i > 0:\n",
        "        x = BatchNormalization(momentum=disc_batch_norm_momentum)(x)\n",
        "        \n",
        "    x = LeakyReLU(alpha=0.2)(x)\n",
        "    \n",
        "    if disc_dropout_rate:\n",
        "        x = Dropout(disc_dropout_rate)(x)\n",
        "    \n",
        "x = Flatten()(x)\n",
        "disc_output = Dense(1, activation=\"sigmoid\")(x)\n",
        "disc_model = Model(disc_input, disc_output)"
      ],
      "execution_count": 0,
      "outputs": [
        {
          "output_type": "stream",
          "text": [
            "WARNING:tensorflow:From /usr/local/lib/python3.6/dist-packages/tensorflow_core/python/ops/resource_variable_ops.py:1630: calling BaseResourceVariable.__init__ (from tensorflow.python.ops.resource_variable_ops) with constraint is deprecated and will be removed in a future version.\n",
            "Instructions for updating:\n",
            "If using Keras pass *_constraint arguments to layers.\n"
          ],
          "name": "stdout"
        }
      ]
    },
    {
      "cell_type": "code",
      "metadata": {
        "colab_type": "code",
        "id": "4gEeKTFbjHWJ",
        "outputId": "0d21681a-0571-4f99-fce2-533fbae80a8b",
        "colab": {
          "base_uri": "https://localhost:8080/",
          "height": 799
        }
      },
      "source": [
        "disc_model.summary()"
      ],
      "execution_count": 0,
      "outputs": [
        {
          "output_type": "stream",
          "text": [
            "Model: \"model\"\n",
            "_________________________________________________________________\n",
            "Layer (type)                 Output Shape              Param #   \n",
            "=================================================================\n",
            "disc_input (InputLayer)      [(None, 28, 28, 1)]       0         \n",
            "_________________________________________________________________\n",
            "disc_conv_0 (Conv2D)         (None, 14, 14, 32)        320       \n",
            "_________________________________________________________________\n",
            "leaky_re_lu (LeakyReLU)      (None, 14, 14, 32)        0         \n",
            "_________________________________________________________________\n",
            "dropout (Dropout)            (None, 14, 14, 32)        0         \n",
            "_________________________________________________________________\n",
            "disc_conv_1 (Conv2D)         (None, 7, 7, 64)          18496     \n",
            "_________________________________________________________________\n",
            "zero_padding2d (ZeroPadding2 (None, 8, 8, 64)          0         \n",
            "_________________________________________________________________\n",
            "batch_normalization (BatchNo (None, 8, 8, 64)          256       \n",
            "_________________________________________________________________\n",
            "leaky_re_lu_1 (LeakyReLU)    (None, 8, 8, 64)          0         \n",
            "_________________________________________________________________\n",
            "dropout_1 (Dropout)          (None, 8, 8, 64)          0         \n",
            "_________________________________________________________________\n",
            "disc_conv_2 (Conv2D)         (None, 4, 4, 128)         73856     \n",
            "_________________________________________________________________\n",
            "batch_normalization_1 (Batch (None, 4, 4, 128)         512       \n",
            "_________________________________________________________________\n",
            "leaky_re_lu_2 (LeakyReLU)    (None, 4, 4, 128)         0         \n",
            "_________________________________________________________________\n",
            "dropout_2 (Dropout)          (None, 4, 4, 128)         0         \n",
            "_________________________________________________________________\n",
            "disc_conv_3 (Conv2D)         (None, 4, 4, 256)         295168    \n",
            "_________________________________________________________________\n",
            "batch_normalization_2 (Batch (None, 4, 4, 256)         1024      \n",
            "_________________________________________________________________\n",
            "leaky_re_lu_3 (LeakyReLU)    (None, 4, 4, 256)         0         \n",
            "_________________________________________________________________\n",
            "dropout_3 (Dropout)          (None, 4, 4, 256)         0         \n",
            "_________________________________________________________________\n",
            "flatten (Flatten)            (None, 4096)              0         \n",
            "_________________________________________________________________\n",
            "dense (Dense)                (None, 1)                 4097      \n",
            "=================================================================\n",
            "Total params: 393,729\n",
            "Trainable params: 392,833\n",
            "Non-trainable params: 896\n",
            "_________________________________________________________________\n"
          ],
          "name": "stdout"
        }
      ]
    },
    {
      "cell_type": "markdown",
      "metadata": {
        "colab_type": "text",
        "id": "uOLW7uELjHWN"
      },
      "source": [
        "## Generator"
      ]
    },
    {
      "cell_type": "code",
      "metadata": {
        "colab_type": "code",
        "id": "dySryfiFjHWN",
        "colab": {}
      },
      "source": [
        "gen_input = Input(shape=(z_dims,), name=\"gen_input\")\n",
        "x = gen_input\n",
        "x = Dense(np.prod(shape_after_dense))(x)\n",
        "    \n",
        "x = Activation(\"relu\")(x)\n",
        "x = Reshape(shape_after_dense)(x)\n",
        "    \n",
        "for i in range(num_gen_layers):\n",
        "    if gen_upsamp_layers[i]:\n",
        "        x = UpSampling2D()(x)\n",
        "        \n",
        "    x = Conv2D(gen_conv_fils[i],\n",
        "              gen_conv_kernel_size[i],\n",
        "              padding=\"same\",\n",
        "              name=\"gen_conv_\" + str(i)\n",
        "              )(x)\n",
        "    \n",
        "    if i < num_gen_layers - 1:\n",
        "        if gen_batch_norm_momentum:\n",
        "            x = BatchNormalization(\n",
        "            momentum=gen_batch_norm_momentum)(x)\n",
        "            \n",
        "        x = Activation(\"relu\")(x)\n",
        "    else:\n",
        "        x = Activation(\"tanh\")(x)\n",
        "        \n",
        "gen_output = x\n",
        "gen_model = Model(gen_input, gen_output)"
      ],
      "execution_count": 0,
      "outputs": []
    },
    {
      "cell_type": "code",
      "metadata": {
        "colab_type": "code",
        "id": "yacwHHYijHWQ",
        "outputId": "dbb6e93f-e715-4e2f-d1f4-b35b8fb4c981",
        "colab": {
          "base_uri": "https://localhost:8080/",
          "height": 629
        }
      },
      "source": [
        "gen_model.summary()"
      ],
      "execution_count": 0,
      "outputs": [
        {
          "output_type": "stream",
          "text": [
            "Model: \"model_1\"\n",
            "_________________________________________________________________\n",
            "Layer (type)                 Output Shape              Param #   \n",
            "=================================================================\n",
            "gen_input (InputLayer)       [(None, 100)]             0         \n",
            "_________________________________________________________________\n",
            "dense_1 (Dense)              (None, 6272)              633472    \n",
            "_________________________________________________________________\n",
            "activation (Activation)      (None, 6272)              0         \n",
            "_________________________________________________________________\n",
            "reshape (Reshape)            (None, 7, 7, 128)         0         \n",
            "_________________________________________________________________\n",
            "up_sampling2d (UpSampling2D) (None, 14, 14, 128)       0         \n",
            "_________________________________________________________________\n",
            "gen_conv_0 (Conv2D)          (None, 14, 14, 128)       147584    \n",
            "_________________________________________________________________\n",
            "batch_normalization_3 (Batch (None, 14, 14, 128)       512       \n",
            "_________________________________________________________________\n",
            "activation_1 (Activation)    (None, 14, 14, 128)       0         \n",
            "_________________________________________________________________\n",
            "up_sampling2d_1 (UpSampling2 (None, 28, 28, 128)       0         \n",
            "_________________________________________________________________\n",
            "gen_conv_1 (Conv2D)          (None, 28, 28, 64)        73792     \n",
            "_________________________________________________________________\n",
            "batch_normalization_4 (Batch (None, 28, 28, 64)        256       \n",
            "_________________________________________________________________\n",
            "activation_2 (Activation)    (None, 28, 28, 64)        0         \n",
            "_________________________________________________________________\n",
            "gen_conv_2 (Conv2D)          (None, 28, 28, 1)         577       \n",
            "_________________________________________________________________\n",
            "activation_3 (Activation)    (None, 28, 28, 1)         0         \n",
            "=================================================================\n",
            "Total params: 856,193\n",
            "Trainable params: 855,809\n",
            "Non-trainable params: 384\n",
            "_________________________________________________________________\n"
          ],
          "name": "stdout"
        }
      ]
    },
    {
      "cell_type": "markdown",
      "metadata": {
        "colab_type": "text",
        "id": "MkWHS_GujHWS"
      },
      "source": [
        "## Train the GAN"
      ]
    },
    {
      "cell_type": "markdown",
      "metadata": {
        "colab_type": "text",
        "id": "HRs0OP7kjHWT"
      },
      "source": [
        "### compile discriminator train model"
      ]
    },
    {
      "cell_type": "code",
      "metadata": {
        "colab_type": "code",
        "id": "-WH5Pr5yjHWU",
        "outputId": "1de57882-ce9e-4482-d1b3-c5a496f7281f",
        "colab": {
          "base_uri": "https://localhost:8080/",
          "height": 88
        }
      },
      "source": [
        "disc_model.compile(#optimizer=RMSprop(lr=0.0008),\n",
        "                  optimizer=Adam(0.0002, 0.5),\n",
        "                  loss=\"binary_crossentropy\",\n",
        "                  metrics=[\"accuracy\"])"
      ],
      "execution_count": 0,
      "outputs": [
        {
          "output_type": "stream",
          "text": [
            "WARNING:tensorflow:From /usr/local/lib/python3.6/dist-packages/tensorflow_core/python/ops/nn_impl.py:183: where (from tensorflow.python.ops.array_ops) is deprecated and will be removed in a future version.\n",
            "Instructions for updating:\n",
            "Use tf.where in 2.0, which has the same broadcast rule as np.where\n"
          ],
          "name": "stdout"
        }
      ]
    },
    {
      "cell_type": "code",
      "metadata": {
        "colab_type": "code",
        "id": "djYZgDcrjHWX",
        "colab": {}
      },
      "source": [
        "# freeze the discriminator model so that it only makes\n",
        "# the generator model train on this model\n",
        "disc_model.trainable = False\n",
        "comb_model_input = Input(shape=(z_dims,), name=\"comb_model_input\")\n",
        "comb_model_output = disc_model(gen_model(comb_model_input))\n",
        "comb_model = Model(comb_model_input, comb_model_output)"
      ],
      "execution_count": 0,
      "outputs": []
    },
    {
      "cell_type": "markdown",
      "metadata": {
        "colab_type": "text",
        "id": "9hEV9TQQjHWa"
      },
      "source": [
        "### compile generator train model"
      ]
    },
    {
      "cell_type": "code",
      "metadata": {
        "colab_type": "code",
        "id": "OyjYq695jHWa",
        "colab": {}
      },
      "source": [
        "comb_model.compile(#optimizer=RMSprop(0.0004),\n",
        "             optimizer=Adam(0.0002, 0.5),\n",
        "             loss=\"binary_crossentropy\",\n",
        "             metrics=[\"accuracy\"])"
      ],
      "execution_count": 0,
      "outputs": []
    },
    {
      "cell_type": "code",
      "metadata": {
        "colab_type": "code",
        "id": "ClsLux-4jHWd",
        "colab": {}
      },
      "source": [
        "def train_disc(disc_model, gen_model, x_train, batch_size):\n",
        "    # create 2-dim labels\n",
        "    real_labels = np.ones((batch_size, 1))\n",
        "    fake_labels = np.zeros((batch_size, 1))\n",
        "    \n",
        "    # train on real imgs\n",
        "    # np.random.randint(min, max, size)\n",
        "    idxes = np.random.randint(0, len(x_train), batch_size)\n",
        "    real_imgs = x_train[idxes]\n",
        "    \n",
        "    disc_real_loss = disc_model.train_on_batch(real_imgs, real_labels)\n",
        "    \n",
        "    # train on fake imgs\n",
        "    # np.random.normal(mean, std, size)\n",
        "    # the blow follows the standard normal distribution\n",
        "    noise = np.random.normal(0, 1, (batch_size, z_dims))\n",
        "    fake_imgs = gen_model.predict(noise)\n",
        "    \n",
        "    disc_fake_loss = disc_model.train_on_batch(fake_imgs, fake_labels)\n",
        "    disc_loss = 0.5 * np.add(disc_real_loss, disc_fake_loss)\n",
        "    return disc_loss"
      ],
      "execution_count": 0,
      "outputs": []
    },
    {
      "cell_type": "code",
      "metadata": {
        "colab_type": "code",
        "id": "1MyJ4SzljHWf",
        "colab": {}
      },
      "source": [
        "def train_gen(comb_model, batch_size):\n",
        "    real_labels = np.ones((batch_size, 1))\n",
        "    noise = np.random.normal(0, 1, (batch_size, z_dims))\n",
        "    \n",
        "    gen_loss = comb_model.train_on_batch(noise, real_labels)\n",
        "    return gen_loss"
      ],
      "execution_count": 0,
      "outputs": []
    },
    {
      "cell_type": "code",
      "metadata": {
        "colab_type": "code",
        "id": "pFZedwGxgQ6b",
        "colab": {}
      },
      "source": [
        "def plot_generated_imgs(rows, cols, noises, it, gen_model):\n",
        "    print(\"iteration: \", it)\n",
        "\n",
        "    gen_imgs = gen_model.predict(noises)\n",
        "\n",
        "    # since gen model outputs values ranging from -1 to 1,\n",
        "    # nomalize imgs ranging from 0 to 1\n",
        "    #=====================================================================\n",
        "    # matplotlib.pyplot.imshow(..., norm=None, ...):\n",
        "    # By default, a linear scaling mapping the lowest value to 0 and\n",
        "    # the highest to 1 is used. This parameter is ignored for RGB(A) data.\n",
        "    #=====================================================================\n",
        "\n",
        "    gen_imgs = 0.5 * gen_imgs + 0.5\n",
        "\n",
        "    fig, axs = plt.subplots(rows, cols)\n",
        "\n",
        "    ith_img = 0\n",
        "    for row in range(rows):\n",
        "        for col in range(cols):\n",
        "            try:\n",
        "                axs[row, col].imshow(gen_imgs[ith_img,:,:,0], cmap=\"gray\")\n",
        "                axs[row, col].axis(\"off\")\n",
        "                ith_img += 1\n",
        "            except IndexError:\n",
        "                axs[col].imshow(gen_imgs[ith_img,:,:,0], cmap=\"gray\")\n",
        "                axs[col].axis(\"off\")\n",
        "                ith_img += 1"
      ],
      "execution_count": 0,
      "outputs": []
    },
    {
      "cell_type": "code",
      "metadata": {
        "colab_type": "code",
        "id": "JosF9dJVjHWl",
        "outputId": "64a772af-a061-4c29-8ce7-dfb388fab1a8",
        "scrolled": false,
        "colab": {
          "base_uri": "https://localhost:8080/",
          "height": 1000
        }
      },
      "source": [
        "iterations = 10_000\n",
        "batch_size = 64\n",
        "rows, cols = 1, 5\n",
        "noises = np.random.normal(0, 1, (rows * cols, z_dims))\n",
        "\n",
        "print(\"[training log]\")\n",
        "for it in range(iterations):\n",
        "    disc_loss = train_disc(disc_model, gen_model, x_train, batch_size)\n",
        "    gen_loss = train_gen(comb_model, batch_size)\n",
        "    \n",
        "    if it % 1000 == 0:\n",
        "        print(\"iteration: %d disc loss: %f, disc acc: %.2f%% | gen loss: %f, \"\n",
        "        \"gen acc: %.2f%%\" % \n",
        "          (it, disc_loss[0], 100 * disc_loss[1], gen_loss[0], gen_loss[1]))\n",
        "        plot_generated_imgs(rows, cols, noises, it, gen_model)\n",
        "        \n",
        "print(\"[5 generated images for each 1000th iteration]\")"
      ],
      "execution_count": 0,
      "outputs": [
        {
          "output_type": "stream",
          "text": [
            "[training log]\n",
            "WARNING:tensorflow:Discrepancy between trainable weights and collected trainable weights, did you set `model.trainable` without calling `model.compile` after ?\n",
            "WARNING:tensorflow:Discrepancy between trainable weights and collected trainable weights, did you set `model.trainable` without calling `model.compile` after ?\n",
            "iteration: 0 disc loss: 1.028140, disc acc: 37.50% | gen loss: 0.867542, gen acc: 0.42%\n",
            "iteration:  0\n",
            "iteration: 1000 disc loss: 0.663162, disc acc: 59.38% | gen loss: 1.028163, gen acc: 0.23%\n",
            "iteration:  1000\n",
            "iteration: 2000 disc loss: 0.649516, disc acc: 56.25% | gen loss: 0.934904, gen acc: 0.30%\n",
            "iteration:  2000\n",
            "iteration: 3000 disc loss: 0.709500, disc acc: 53.12% | gen loss: 0.916895, gen acc: 0.36%\n",
            "iteration:  3000\n",
            "iteration: 4000 disc loss: 0.688876, disc acc: 57.03% | gen loss: 0.987680, gen acc: 0.20%\n",
            "iteration:  4000\n",
            "iteration: 5000 disc loss: 0.684094, disc acc: 55.47% | gen loss: 0.877287, gen acc: 0.25%\n",
            "iteration:  5000\n",
            "iteration: 6000 disc loss: 0.742788, disc acc: 45.31% | gen loss: 0.829910, gen acc: 0.38%\n",
            "iteration:  6000\n",
            "iteration: 7000 disc loss: 0.752818, disc acc: 44.53% | gen loss: 0.876452, gen acc: 0.39%\n",
            "iteration:  7000\n",
            "iteration: 8000 disc loss: 0.660208, disc acc: 57.81% | gen loss: 0.914548, gen acc: 0.34%\n",
            "iteration:  8000\n",
            "iteration: 9000 disc loss: 0.682493, disc acc: 57.03% | gen loss: 0.892657, gen acc: 0.36%\n",
            "iteration:  9000\n",
            "[5 generated images for each 1000th iteration]\n"
          ],
          "name": "stdout"
        },
        {
          "output_type": "display_data",
          "data": {
            "image/png": "[encoded data removed]",
            "text/plain": [
              "<Figure size 432x288 with 5 Axes>"
            ]
          },
          "metadata": {
            "tags": []
          }
        },
        {
          "output_type": "display_data",
          "data": {
            "image/png": "[encoded data removed]",
            "text/plain": [
              "<Figure size 432x288 with 5 Axes>"
            ]
          },
          "metadata": {
            "tags": []
          }
        },
        {
          "output_type": "display_data",
          "data": {
            "image/png": "[encoded data removed]",
            "text/plain": [
              "<Figure size 432x288 with 5 Axes>"
            ]
          },
          "metadata": {
            "tags": []
          }
        },
        {
          "output_type": "display_data",
          "data": {
            "image/png": "[encoded data removed]",
            "text/plain": [
              "<Figure size 432x288 with 5 Axes>"
            ]
          },
          "metadata": {
            "tags": []
          }
        },
        {
          "output_type": "display_data",
          "data": {
            "image/png": "[encoded data removed]",
            "text/plain": [
              "<Figure size 432x288 with 5 Axes>"
            ]
          },
          "metadata": {
            "tags": []
          }
        },
        {
          "output_type": "display_data",
          "data": {
            "image/png": "[encoded data removed]",
            "text/plain": [
              "<Figure size 432x288 with 5 Axes>"
            ]
          },
          "metadata": {
            "tags": []
          }
        },
        {
          "output_type": "display_data",
          "data": {
            "image/png": "[encoded data removed]",
            "text/plain": [
              "<Figure size 432x288 with 5 Axes>"
            ]
          },
          "metadata": {
            "tags": []
          }
        },
        {
          "output_type": "display_data",
          "data": {
            "image/png": "[encoded data removed]",
            "text/plain": [
              "<Figure size 432x288 with 5 Axes>"
            ]
          },
          "metadata": {
            "tags": []
          }
        },
        {
          "output_type": "display_data",
          "data": {
            "image/png": "[encoded data removed]",
            "text/plain": [
              "<Figure size 432x288 with 5 Axes>"
            ]
          },
          "metadata": {
            "tags": []
          }
        },
        {
          "output_type": "display_data",
          "data": {
            "image/png": "[encoded data removed]",
            "text/plain": [
              "<Figure size 432x288 with 5 Axes>"
            ]
          },
          "metadata": {
            "tags": []
          }
        }
      ]
    },
    {
      "cell_type": "code",
      "metadata": {
        "colab_type": "code",
        "id": "uu5NCGJvvFvi",
        "colab": {}
      },
      "source": [
        ""
      ],
      "execution_count": 0,
      "outputs": []
    }
  ]
}