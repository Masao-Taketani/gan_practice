{
 "cells": [
  {
   "cell_type": "code",
   "execution_count": 19,
   "metadata": {},
   "outputs": [],
   "source": [
    "from keras.layers import Input, Conv2D, BatchNormalization,\\\n",
    "Activation, Dropout, Flatten, Dense, Reshape, UpSampling2D\n",
    "from keras.models import Model\n",
    "from keras.initializers import RandomNormal\n",
    "import numpy as np"
   ]
  },
  {
   "cell_type": "code",
   "execution_count": 18,
   "metadata": {},
   "outputs": [],
   "source": [
    "# hyper params\n",
    "input_dims = (28, 28, 1)\n",
    "num_disc_layers = 4\n",
    "disc_conv_fils = [64, 64, 128, 128]\n",
    "disc_conv_kernel_size = [5, 5, 5, 5]\n",
    "disc_conv_strides = [1, 1, 1, 1]\n",
    "disc_batch_norm_momentum = None\n",
    "disc_dropout_rate = 0.4\n",
    "\n",
    "z_dims = (100,)\n",
    "shape_after_dense = (7,7,64)\n",
    "gen_batch_norm_momentum = 0.9\n",
    "gen_dropout_rate = None\n",
    "num_gen_layers = 4\n",
    "gen_conv_fils = [128, 64, 64, 1]\n",
    "gen_conv_kernel_size = [5, 5, 5, 5]"
   ]
  },
  {
   "cell_type": "markdown",
   "metadata": {},
   "source": [
    "## Discriminator"
   ]
  },
  {
   "cell_type": "code",
   "execution_count": 16,
   "metadata": {},
   "outputs": [],
   "source": [
    "disc_input = Input(shape=input_dims, name=\"discriminator_input\")\n",
    "x = disc_input\n",
    "\n",
    "for i in range(num_disc_layers):\n",
    "    x = Conv2D(filters=disc_conv_fils[i],\n",
    "              kernel_size=disc_conv_kernel_size[i],\n",
    "              strides=disc_conv_strides[i],\n",
    "              padding=\"same\",\n",
    "              name=\"disc_conv_\" + str(i)\n",
    "              )(x)\n",
    "    \n",
    "    if disc_batch_norm_momentum and i > 0:\n",
    "        x = BatchNormalization(momentum=disc_batch_norm_momentum)(x)\n",
    "        \n",
    "    x = Activation(\"relu\")(x)\n",
    "    \n",
    "    if disc_dropout_rate:\n",
    "        x = Dropout(disc_dropout_rate)(x)\n",
    "    \n",
    "x = Flatten()(x)\n",
    "disc_output = Dense(1, activation=\"sigmoid\", \\\n",
    "                    kernel_initializer=RandomNormal(mean=0., stddev=0.02))(x)\n",
    "disc_model = Model(disc_input, disc_output)"
   ]
  },
  {
   "cell_type": "code",
   "execution_count": 22,
   "metadata": {},
   "outputs": [
    {
     "name": "stdout",
     "output_type": "stream",
     "text": [
      "_________________________________________________________________\n",
      "Layer (type)                 Output Shape              Param #   \n",
      "=================================================================\n",
      "discriminator_input (InputLa (None, 28, 28, 1)         0         \n",
      "_________________________________________________________________\n",
      "disc_conv_0 (Conv2D)         (None, 28, 28, 64)        1664      \n",
      "_________________________________________________________________\n",
      "activation_9 (Activation)    (None, 28, 28, 64)        0         \n",
      "_________________________________________________________________\n",
      "dropout_9 (Dropout)          (None, 28, 28, 64)        0         \n",
      "_________________________________________________________________\n",
      "disc_conv_1 (Conv2D)         (None, 28, 28, 64)        102464    \n",
      "_________________________________________________________________\n",
      "activation_10 (Activation)   (None, 28, 28, 64)        0         \n",
      "_________________________________________________________________\n",
      "dropout_10 (Dropout)         (None, 28, 28, 64)        0         \n",
      "_________________________________________________________________\n",
      "disc_conv_2 (Conv2D)         (None, 28, 28, 128)       204928    \n",
      "_________________________________________________________________\n",
      "activation_11 (Activation)   (None, 28, 28, 128)       0         \n",
      "_________________________________________________________________\n",
      "dropout_11 (Dropout)         (None, 28, 28, 128)       0         \n",
      "_________________________________________________________________\n",
      "disc_conv_3 (Conv2D)         (None, 28, 28, 128)       409728    \n",
      "_________________________________________________________________\n",
      "activation_12 (Activation)   (None, 28, 28, 128)       0         \n",
      "_________________________________________________________________\n",
      "dropout_12 (Dropout)         (None, 28, 28, 128)       0         \n",
      "_________________________________________________________________\n",
      "flatten_3 (Flatten)          (None, 100352)            0         \n",
      "_________________________________________________________________\n",
      "dense_3 (Dense)              (None, 1)                 100353    \n",
      "=================================================================\n",
      "Total params: 819,137\n",
      "Trainable params: 819,137\n",
      "Non-trainable params: 0\n",
      "_________________________________________________________________\n"
     ]
    }
   ],
   "source": [
    "disc_model.summary()"
   ]
  },
  {
   "cell_type": "markdown",
   "metadata": {},
   "source": [
    "## Generator"
   ]
  },
  {
   "cell_type": "code",
   "execution_count": 21,
   "metadata": {},
   "outputs": [],
   "source": [
    "gen_input = Input(shape=z_dims, name=\"gen_input\")\n",
    "x = gen_input\n",
    "x = Dense(np.prod(shape_after_dense))(x)\n",
    "\n",
    "if gen_batch_norm_momentum:\n",
    "    x = BatchNormalization(momentum=gen_batch_norm_momentum)(x)\n",
    "    \n",
    "x = Activation(\"relu\")(x)\n",
    "x = Reshape(shape_after_dense)(x)\n",
    "\n",
    "if gen_dropout_rate:\n",
    "    x = Dropout(rate=gen_dropout_rate)(x)\n",
    "    \n",
    "for i in range(num_gen_layers):\n",
    "    x = UpSampling2D()(x)\n",
    "    x = Conv2D(gen_conv_fils[i],\n",
    "              gen_conv_kernel_size[i],\n",
    "              padding=\"same\",\n",
    "              name=\"gen_conv_\" + str(i)\n",
    "              )(x)\n",
    "    \n",
    "    if i < num_gen_layers - 1:\n",
    "        if gen_batch_norm_momentum:\n",
    "            x = BatchNormalization(\n",
    "            momentum=gen_batch_norm_momentum)(x)\n",
    "            \n",
    "        x = Activation(\"relu\")(x)\n",
    "    else:\n",
    "        x = Activation(\"tanh\")(x)\n",
    "        \n",
    "gen_output = x\n",
    "gen_model = Model(gen_input, gen_output)"
   ]
  },
  {
   "cell_type": "code",
   "execution_count": 23,
   "metadata": {},
   "outputs": [
    {
     "name": "stdout",
     "output_type": "stream",
     "text": [
      "_________________________________________________________________\n",
      "Layer (type)                 Output Shape              Param #   \n",
      "=================================================================\n",
      "gen_input (InputLayer)       (None, 100)               0         \n",
      "_________________________________________________________________\n",
      "dense_5 (Dense)              (None, 3136)              316736    \n",
      "_________________________________________________________________\n",
      "batch_normalization_2 (Batch (None, 3136)              12544     \n",
      "_________________________________________________________________\n",
      "activation_14 (Activation)   (None, 3136)              0         \n",
      "_________________________________________________________________\n",
      "reshape_2 (Reshape)          (None, 7, 7, 64)          0         \n",
      "_________________________________________________________________\n",
      "up_sampling2d_2 (UpSampling2 (None, 14, 14, 64)        0         \n",
      "_________________________________________________________________\n",
      "gen_conv_0 (Conv2D)          (None, 14, 14, 128)       204928    \n",
      "_________________________________________________________________\n",
      "batch_normalization_3 (Batch (None, 14, 14, 128)       512       \n",
      "_________________________________________________________________\n",
      "activation_15 (Activation)   (None, 14, 14, 128)       0         \n",
      "_________________________________________________________________\n",
      "up_sampling2d_3 (UpSampling2 (None, 28, 28, 128)       0         \n",
      "_________________________________________________________________\n",
      "gen_conv_1 (Conv2D)          (None, 28, 28, 64)        204864    \n",
      "_________________________________________________________________\n",
      "batch_normalization_4 (Batch (None, 28, 28, 64)        256       \n",
      "_________________________________________________________________\n",
      "activation_16 (Activation)   (None, 28, 28, 64)        0         \n",
      "_________________________________________________________________\n",
      "up_sampling2d_4 (UpSampling2 (None, 56, 56, 64)        0         \n",
      "_________________________________________________________________\n",
      "gen_conv_2 (Conv2D)          (None, 56, 56, 64)        102464    \n",
      "_________________________________________________________________\n",
      "batch_normalization_5 (Batch (None, 56, 56, 64)        256       \n",
      "_________________________________________________________________\n",
      "activation_17 (Activation)   (None, 56, 56, 64)        0         \n",
      "_________________________________________________________________\n",
      "up_sampling2d_5 (UpSampling2 (None, 112, 112, 64)      0         \n",
      "_________________________________________________________________\n",
      "gen_conv_3 (Conv2D)          (None, 112, 112, 1)       1601      \n",
      "_________________________________________________________________\n",
      "activation_18 (Activation)   (None, 112, 112, 1)       0         \n",
      "=================================================================\n",
      "Total params: 844,161\n",
      "Trainable params: 837,377\n",
      "Non-trainable params: 6,784\n",
      "_________________________________________________________________\n"
     ]
    }
   ],
   "source": [
    "gen_model.summary()"
   ]
  },
  {
   "cell_type": "code",
   "execution_count": null,
   "metadata": {},
   "outputs": [],
   "source": []
  }
 ],
 "metadata": {
  "kernelspec": {
   "display_name": "Python 3",
   "language": "python",
   "name": "python3"
  },
  "language_info": {
   "codemirror_mode": {
    "name": "ipython",
    "version": 3
   },
   "file_extension": ".py",
   "mimetype": "text/x-python",
   "name": "python",
   "nbconvert_exporter": "python",
   "pygments_lexer": "ipython3",
   "version": "3.5.2"
  }
 },
 "nbformat": 4,
 "nbformat_minor": 2
}
