{
  "nbformat": 4,
  "nbformat_minor": 0,
  "metadata": {
    "kernelspec": {
      "name": "python3",
      "display_name": "Python 3"
    },
    "language_info": {
      "codemirror_mode": {
        "name": "ipython",
        "version": 3
      },
      "file_extension": ".py",
      "mimetype": "text/x-python",
      "name": "python",
      "nbconvert_exporter": "python",
      "pygments_lexer": "ipython3",
      "version": "3.7.6"
    },
    "colab": {
      "name": "dcgan.ipynb",
      "provenance": []
    },
    "accelerator": "GPU"
  },
  "cells": [
    {
      "cell_type": "markdown",
      "metadata": {
        "id": "svr0lCa0jHVy",
        "colab_type": "text"
      },
      "source": [
        "[![Open In Colab](https://colab.research.google.com/assets/colab-badge.svg)](https://colab.research.google.com/github/Masao-Taketani/gan_practice/blob/master/dcgan.ipynb)\n"
      ]
    },
    {
      "cell_type": "code",
      "metadata": {
        "id": "zoJVq7aUjHV2",
        "colab_type": "code",
        "colab": {}
      },
      "source": [
        "from tensorflow.keras.layers import Input, Conv2D, BatchNormalization,\\\n",
        "Activation, Dropout, Flatten, Dense, Reshape, UpSampling2D, LeakyReLU\n",
        "from tensorflow.keras.optimizers import RMSprop, Adam\n",
        "from tensorflow.keras.models import Model\n",
        "from tensorflow.keras.initializers import RandomNormal\n",
        "import numpy as np\n",
        "\n",
        "from tensorflow.keras.datasets import mnist\n",
        "from PIL import Image\n",
        "import matplotlib.pyplot as plt\n",
        "%matplotlib inline"
      ],
      "execution_count": 0,
      "outputs": []
    },
    {
      "cell_type": "code",
      "metadata": {
        "id": "7Nnn-kWDjHV7",
        "colab_type": "code",
        "colab": {},
        "outputId": "4050bab0-d473-48cb-9312-ca1dde16d30f"
      },
      "source": [
        "(x_train, _), (_, _) = mnist.load_data()\n",
        "x_train.shape"
      ],
      "execution_count": 0,
      "outputs": [
        {
          "output_type": "execute_result",
          "data": {
            "text/plain": [
              "(60000, 28, 28)"
            ]
          },
          "metadata": {
            "tags": []
          },
          "execution_count": 17
        }
      ]
    },
    {
      "cell_type": "code",
      "metadata": {
        "id": "JM9nBmZzjHWA",
        "colab_type": "code",
        "colab": {},
        "outputId": "d5cfa585-17e1-4e1e-a5fd-c219bfe62387"
      },
      "source": [
        "x_train = x_train/127.5 - 1\n",
        "x_train = np.expand_dims(x_train, -1)\n",
        "x_train.shape"
      ],
      "execution_count": 0,
      "outputs": [
        {
          "output_type": "execute_result",
          "data": {
            "text/plain": [
              "(60000, 28, 28, 1)"
            ]
          },
          "metadata": {
            "tags": []
          },
          "execution_count": 18
        }
      ]
    },
    {
      "cell_type": "code",
      "metadata": {
        "id": "i4ZDY3fjjHWD",
        "colab_type": "code",
        "colab": {}
      },
      "source": [
        "# hyper params\n",
        "input_dims = (28, 28, 1)\n",
        "num_disc_layers = 4\n",
        "disc_conv_fils = [64, 64, 128, 128]\n",
        "disc_conv_kernel_size = [5, 5, 5, 5]\n",
        "disc_conv_strides = [2, 2, 2, 1]\n",
        "disc_batch_norm_momentum = None\n",
        "disc_dropout_rate = 0.4\n",
        "\n",
        "z_dims = 100\n",
        "shape_after_dense = (7, 7, 64)\n",
        "upsamp_layers = [True, True, False, False]\n",
        "gen_batch_norm_momentum = 0.9\n",
        "gen_dropout_rate = None\n",
        "num_gen_layers = 4\n",
        "gen_conv_fils = [128, 64, 64, 1]\n",
        "gen_conv_kernel_size = [5, 5, 5, 5]"
      ],
      "execution_count": 0,
      "outputs": []
    },
    {
      "cell_type": "markdown",
      "metadata": {
        "id": "TtNjH37UjHWG",
        "colab_type": "text"
      },
      "source": [
        "## Discriminator"
      ]
    },
    {
      "cell_type": "code",
      "metadata": {
        "id": "PjVNAOwpjHWH",
        "colab_type": "code",
        "colab": {}
      },
      "source": [
        "disc_input = Input(shape=input_dims, name=\"disc_input\")\n",
        "x = disc_input\n",
        "\n",
        "for i in range(num_disc_layers):\n",
        "    x = Conv2D(filters=disc_conv_fils[i],\n",
        "              kernel_size=disc_conv_kernel_size[i],\n",
        "              strides=disc_conv_strides[i],\n",
        "              padding=\"same\",\n",
        "              name=\"disc_conv_\" + str(i)\n",
        "              )(x)\n",
        "    \n",
        "    if disc_batch_norm_momentum and i > 0:\n",
        "        x = BatchNormalization(momentum=disc_batch_norm_momentum)(x)\n",
        "        \n",
        "    x = LeakyReLU(alpha=0.2)(x)\n",
        "    \n",
        "    if disc_dropout_rate:\n",
        "        x = Dropout(disc_dropout_rate)(x)\n",
        "    \n",
        "x = Flatten()(x)\n",
        "disc_output = Dense(1, activation=\"sigmoid\", \\\n",
        "                    kernel_initializer=RandomNormal(mean=0., stddev=0.02))(x)\n",
        "disc_model = Model(disc_input, disc_output)"
      ],
      "execution_count": 0,
      "outputs": []
    },
    {
      "cell_type": "code",
      "metadata": {
        "id": "4gEeKTFbjHWJ",
        "colab_type": "code",
        "colab": {},
        "outputId": "8fa23af7-c959-4795-dab7-38ec8275935e"
      },
      "source": [
        "disc_model.summary()"
      ],
      "execution_count": 0,
      "outputs": [
        {
          "output_type": "stream",
          "text": [
            "_________________________________________________________________\n",
            "Layer (type)                 Output Shape              Param #   \n",
            "=================================================================\n",
            "disc_input (InputLayer)      (None, 28, 28, 1)         0         \n",
            "_________________________________________________________________\n",
            "disc_conv_0 (Conv2D)         (None, 14, 14, 64)        1664      \n",
            "_________________________________________________________________\n",
            "leaky_re_lu_1 (LeakyReLU)    (None, 14, 14, 64)        0         \n",
            "_________________________________________________________________\n",
            "dropout_5 (Dropout)          (None, 14, 14, 64)        0         \n",
            "_________________________________________________________________\n",
            "disc_conv_1 (Conv2D)         (None, 7, 7, 64)          102464    \n",
            "_________________________________________________________________\n",
            "leaky_re_lu_2 (LeakyReLU)    (None, 7, 7, 64)          0         \n",
            "_________________________________________________________________\n",
            "dropout_6 (Dropout)          (None, 7, 7, 64)          0         \n",
            "_________________________________________________________________\n",
            "disc_conv_2 (Conv2D)         (None, 4, 4, 128)         204928    \n",
            "_________________________________________________________________\n",
            "leaky_re_lu_3 (LeakyReLU)    (None, 4, 4, 128)         0         \n",
            "_________________________________________________________________\n",
            "dropout_7 (Dropout)          (None, 4, 4, 128)         0         \n",
            "_________________________________________________________________\n",
            "disc_conv_3 (Conv2D)         (None, 4, 4, 128)         409728    \n",
            "_________________________________________________________________\n",
            "leaky_re_lu_4 (LeakyReLU)    (None, 4, 4, 128)         0         \n",
            "_________________________________________________________________\n",
            "dropout_8 (Dropout)          (None, 4, 4, 128)         0         \n",
            "_________________________________________________________________\n",
            "flatten_2 (Flatten)          (None, 2048)              0         \n",
            "_________________________________________________________________\n",
            "dense_3 (Dense)              (None, 1)                 2049      \n",
            "=================================================================\n",
            "Total params: 720,833\n",
            "Trainable params: 720,833\n",
            "Non-trainable params: 0\n",
            "_________________________________________________________________\n"
          ],
          "name": "stdout"
        }
      ]
    },
    {
      "cell_type": "markdown",
      "metadata": {
        "id": "uOLW7uELjHWN",
        "colab_type": "text"
      },
      "source": [
        "## Generator"
      ]
    },
    {
      "cell_type": "code",
      "metadata": {
        "id": "dySryfiFjHWN",
        "colab_type": "code",
        "colab": {}
      },
      "source": [
        "gen_input = Input(shape=(z_dims,), name=\"gen_input\")\n",
        "x = gen_input\n",
        "x = Dense(np.prod(shape_after_dense))(x)\n",
        "\n",
        "if gen_batch_norm_momentum:\n",
        "    x = BatchNormalization(momentum=gen_batch_norm_momentum)(x)\n",
        "    \n",
        "x = Activation(\"relu\")(x)\n",
        "x = Reshape(shape_after_dense)(x)\n",
        "\n",
        "if gen_dropout_rate:\n",
        "    x = Dropout(rate=gen_dropout_rate)(x)\n",
        "    \n",
        "for i in range(num_gen_layers):\n",
        "    if upsamp_layers[i]:\n",
        "        x = UpSampling2D()(x)\n",
        "        \n",
        "    x = Conv2D(gen_conv_fils[i],\n",
        "              gen_conv_kernel_size[i],\n",
        "              padding=\"same\",\n",
        "              name=\"gen_conv_\" + str(i)\n",
        "              )(x)\n",
        "    \n",
        "    if i < num_gen_layers - 1:\n",
        "        if gen_batch_norm_momentum:\n",
        "            x = BatchNormalization(\n",
        "            momentum=gen_batch_norm_momentum)(x)\n",
        "            \n",
        "        x = Activation(\"relu\")(x)\n",
        "    else:\n",
        "        x = Activation(\"tanh\")(x)\n",
        "        \n",
        "gen_output = x\n",
        "gen_model = Model(gen_input, gen_output)"
      ],
      "execution_count": 0,
      "outputs": []
    },
    {
      "cell_type": "code",
      "metadata": {
        "id": "yacwHHYijHWQ",
        "colab_type": "code",
        "colab": {},
        "outputId": "cceaf1c7-6c49-40aa-c17f-b0761c49314f"
      },
      "source": [
        "gen_model.summary()"
      ],
      "execution_count": 0,
      "outputs": [
        {
          "output_type": "stream",
          "text": [
            "_________________________________________________________________\n",
            "Layer (type)                 Output Shape              Param #   \n",
            "=================================================================\n",
            "gen_input (InputLayer)       (None, 100)               0         \n",
            "_________________________________________________________________\n",
            "dense_4 (Dense)              (None, 3136)              316736    \n",
            "_________________________________________________________________\n",
            "batch_normalization_5 (Batch (None, 3136)              12544     \n",
            "_________________________________________________________________\n",
            "activation_10 (Activation)   (None, 3136)              0         \n",
            "_________________________________________________________________\n",
            "reshape_2 (Reshape)          (None, 7, 7, 64)          0         \n",
            "_________________________________________________________________\n",
            "up_sampling2d_3 (UpSampling2 (None, 14, 14, 64)        0         \n",
            "_________________________________________________________________\n",
            "gen_conv_0 (Conv2D)          (None, 14, 14, 128)       204928    \n",
            "_________________________________________________________________\n",
            "batch_normalization_6 (Batch (None, 14, 14, 128)       512       \n",
            "_________________________________________________________________\n",
            "activation_11 (Activation)   (None, 14, 14, 128)       0         \n",
            "_________________________________________________________________\n",
            "up_sampling2d_4 (UpSampling2 (None, 28, 28, 128)       0         \n",
            "_________________________________________________________________\n",
            "gen_conv_1 (Conv2D)          (None, 28, 28, 64)        204864    \n",
            "_________________________________________________________________\n",
            "batch_normalization_7 (Batch (None, 28, 28, 64)        256       \n",
            "_________________________________________________________________\n",
            "activation_12 (Activation)   (None, 28, 28, 64)        0         \n",
            "_________________________________________________________________\n",
            "gen_conv_2 (Conv2D)          (None, 28, 28, 64)        102464    \n",
            "_________________________________________________________________\n",
            "batch_normalization_8 (Batch (None, 28, 28, 64)        256       \n",
            "_________________________________________________________________\n",
            "activation_13 (Activation)   (None, 28, 28, 64)        0         \n",
            "_________________________________________________________________\n",
            "gen_conv_3 (Conv2D)          (None, 28, 28, 1)         1601      \n",
            "_________________________________________________________________\n",
            "activation_14 (Activation)   (None, 28, 28, 1)         0         \n",
            "=================================================================\n",
            "Total params: 844,161\n",
            "Trainable params: 837,377\n",
            "Non-trainable params: 6,784\n",
            "_________________________________________________________________\n"
          ],
          "name": "stdout"
        }
      ]
    },
    {
      "cell_type": "markdown",
      "metadata": {
        "id": "MkWHS_GujHWS",
        "colab_type": "text"
      },
      "source": [
        "## Train the GAN"
      ]
    },
    {
      "cell_type": "markdown",
      "metadata": {
        "id": "HRs0OP7kjHWT",
        "colab_type": "text"
      },
      "source": [
        "### compile discriminator train model"
      ]
    },
    {
      "cell_type": "code",
      "metadata": {
        "id": "-WH5Pr5yjHWU",
        "colab_type": "code",
        "colab": {}
      },
      "source": [
        "disc_model.compile(#optimizer=RMSprop(lr=0.0008),\n",
        "                  optimizer=Adam(0.0002, 0.5),\n",
        "                  loss=\"binary_crossentropy\",\n",
        "                  metrics=[\"accuracy\"])"
      ],
      "execution_count": 0,
      "outputs": []
    },
    {
      "cell_type": "code",
      "metadata": {
        "id": "djYZgDcrjHWX",
        "colab_type": "code",
        "colab": {}
      },
      "source": [
        "# freeze the discriminator model so that it only makes\n",
        "# the generator model train on this model\n",
        "disc_model.trainable = False\n",
        "comb_model_input = Input(shape=(z_dims,), name=\"comb_model_input\")\n",
        "comb_model_output = disc_model(gen_model(comb_model_input))\n",
        "comb_model = Model(comb_model_input, comb_model_output)"
      ],
      "execution_count": 0,
      "outputs": []
    },
    {
      "cell_type": "markdown",
      "metadata": {
        "id": "9hEV9TQQjHWa",
        "colab_type": "text"
      },
      "source": [
        "### compile generator train model"
      ]
    },
    {
      "cell_type": "code",
      "metadata": {
        "id": "OyjYq695jHWa",
        "colab_type": "code",
        "colab": {}
      },
      "source": [
        "comb_model.compile(#optimizer=RMSprop(0.0004),\n",
        "             optimizer=Adam(0.0002, 0.5),\n",
        "             loss=\"binary_crossentropy\",\n",
        "             metrics=[\"accuracy\"])"
      ],
      "execution_count": 0,
      "outputs": []
    },
    {
      "cell_type": "code",
      "metadata": {
        "id": "ClsLux-4jHWd",
        "colab_type": "code",
        "colab": {}
      },
      "source": [
        "def train_disc(disc_model, gen_model, x_train, batch_size):\n",
        "    # create 2-dim labels\n",
        "    real_labels = np.ones((batch_size, 1))\n",
        "    fake_labels = np.ones((batch_size, 1))\n",
        "    \n",
        "    # train on real imgs\n",
        "    # np.random.randint(min, max, size)\n",
        "    idxes = np.random.randint(0, len(x_train), batch_size)\n",
        "    real_imgs = x_train[idxes]\n",
        "    \n",
        "    disc_model.train_on_batch(real_imgs, real_labels)\n",
        "    \n",
        "    # train on fake imgs\n",
        "    # np.random.normal(mean, std, size)\n",
        "    # the blow follows the standard normal distribution\n",
        "    noise = np.random.normal(0, 1, (batch_size, z_dims))\n",
        "    fake_imgs = gen_model.predict(noise)\n",
        "    \n",
        "    disc_model.train_on_batch(fake_imgs, fake_labels)"
      ],
      "execution_count": 0,
      "outputs": []
    },
    {
      "cell_type": "code",
      "metadata": {
        "id": "1MyJ4SzljHWf",
        "colab_type": "code",
        "colab": {}
      },
      "source": [
        "def train_gen(comb_model, batch_size):\n",
        "    real_labels = np.ones((batch_size, 1))\n",
        "    noise = np.random.normal(0, 1, (batch_size, z_dims))\n",
        "    \n",
        "    comb_model.train_on_batch(noise, real_labels)"
      ],
      "execution_count": 0,
      "outputs": []
    },
    {
      "cell_type": "code",
      "metadata": {
        "id": "glAYzB32jHWi",
        "colab_type": "code",
        "colab": {}
      },
      "source": [
        "def plot_generated_img(noise):\n",
        "    result_img = gen_model.predict(noise)\n",
        "    reshaped_img = np.reshape(result_img, list(input_dims[:2]))\n",
        "    orig_form_img = 127.5 * (reshaped_img + 1.0)\n",
        "    pil_img = Image.fromarray(orig_form_img)\n",
        "    plt.imshow(pil_img)"
      ],
      "execution_count": 0,
      "outputs": []
    },
    {
      "cell_type": "code",
      "metadata": {
        "scrolled": false,
        "id": "JosF9dJVjHWl",
        "colab_type": "code",
        "colab": {},
        "outputId": "b9693aca-7e57-405c-bcfc-706ad730dd36"
      },
      "source": [
        "iterations = 4000\n",
        "batch_size = 64\n",
        "test_noise = np.random.normal(0, 1, (1, z_dims))\n",
        "\n",
        "for it in range(iterations):\n",
        "    train_disc(disc_model, gen_model, x_train, batch_size)\n",
        "    train_gen(comb_model, batch_size)\n",
        "    \n",
        "    if it % 1000 == 0:\n",
        "        print(\"epoch {}\".format(it))\n",
        "        plot_generated_img(test_noise)"
      ],
      "execution_count": 0,
      "outputs": [
        {
          "output_type": "stream",
          "text": [
            "/usr/local/lib/python3.5/dist-packages/keras/engine/training.py:490: UserWarning: Discrepancy between trainable weights and collected trainable weights, did you set `model.trainable` without calling `model.compile` after ?\n",
            "  'Discrepancy between trainable weights and collected trainable'\n"
          ],
          "name": "stderr"
        },
        {
          "output_type": "stream",
          "text": [
            "epoch 0\n",
            "epoch 1000\n",
            "epoch 2000\n",
            "epoch 3000\n"
          ],
          "name": "stdout"
        },
        {
          "output_type": "display_data",
          "data": {
            "image/png": "[encoded data removed]",
            "text/plain": [
              "<Figure size 432x288 with 1 Axes>"
            ]
          },
          "metadata": {
            "tags": [],
            "needs_background": "light"
          }
        }
      ]
    },
    {
      "cell_type": "code",
      "metadata": {
        "id": "fW_sydKxmdDP",
        "colab_type": "code",
        "colab": {}
      },
      "source": [
        ""
      ],
      "execution_count": 0,
      "outputs": []
    }
  ]
}