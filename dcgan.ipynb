{
 "cells": [
  {
   "cell_type": "code",
   "execution_count": 18,
   "metadata": {},
   "outputs": [],
   "source": [
    "from keras.layers import Input, Conv2D, BatchNormalization, Activation, Dropout, Flatten, Dense\n",
    "from keras.models import Model\n",
    "from keras.initializers import RandomNormal"
   ]
  },
  {
   "cell_type": "code",
   "execution_count": 14,
   "metadata": {},
   "outputs": [],
   "source": [
    "# hyper params\n",
    "input_dims = (28, 28, 1)\n",
    "num_disc_layers = 4\n",
    "disc_conv_fils = [64, 64, 128, 128]\n",
    "disc_conv_kernel_size = [5, 5, 5, 5]\n",
    "disc_conv_strides = [1, 1, 1, 1]\n",
    "disc_batch_norm_momentum = None\n",
    "disc_dropout_rate = 0.4"
   ]
  },
  {
   "cell_type": "markdown",
   "metadata": {},
   "source": [
    "## Discriminator"
   ]
  },
  {
   "cell_type": "code",
   "execution_count": 21,
   "metadata": {},
   "outputs": [],
   "source": [
    "disc_input = Input(shape=input_dims, name=\"discriminator_input\")\n",
    "x = disc_input\n",
    "\n",
    "for i in range(num_disc_layers):\n",
    "    x = Conv2D(filters=disc_conv_fils[i],\n",
    "              kernel_size=disc_conv_kernel_size[i],\n",
    "              strides=disc_conv_strides[i],\n",
    "              padding=\"same\",\n",
    "              name=\"disc_conv_\" + str(i))(x)\n",
    "    \n",
    "    if disc_batch_norm_momentum and i > 0:\n",
    "        x = BatchNormalization(momentum=disc_batch_norm_momentum)(x)\n",
    "        \n",
    "    x = Activation(\"relu\")(x)\n",
    "    \n",
    "    if disc_dropout_rate:\n",
    "        x = Dropout(disc_dropout_rate)(x)\n",
    "    \n",
    "x = Flatten()(x)\n",
    "disc_output = Dense(1, activation=\"sigmoid\", kernel_initializer=RandomNormal(mean=0., stddev=0.02))(x)\n",
    "disc = Model(disc_input, disc_output)"
   ]
  },
  {
   "cell_type": "markdown",
   "metadata": {},
   "source": [
    "## Generator"
   ]
  },
  {
   "cell_type": "code",
   "execution_count": null,
   "metadata": {},
   "outputs": [],
   "source": []
  }
 ],
 "metadata": {
  "kernelspec": {
   "display_name": "Python 3",
   "language": "python",
   "name": "python3"
  },
  "language_info": {
   "codemirror_mode": {
    "name": "ipython",
    "version": 3
   },
   "file_extension": ".py",
   "mimetype": "text/x-python",
   "name": "python",
   "nbconvert_exporter": "python",
   "pygments_lexer": "ipython3",
   "version": "3.5.2"
  }
 },
 "nbformat": 4,
 "nbformat_minor": 2
}
